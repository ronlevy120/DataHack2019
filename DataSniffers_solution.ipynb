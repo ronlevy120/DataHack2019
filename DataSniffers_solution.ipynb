{
 "cells": [
  {
   "cell_type": "markdown",
   "metadata": {},
   "source": [
    "# Armis Data Hack Challenge - Solution"
   ]
  },
  {
   "cell_type": "markdown",
   "metadata": {},
   "source": [
    "### Imports and Consts"
   ]
  },
  {
   "cell_type": "code",
   "execution_count": 27,
   "metadata": {},
   "outputs": [],
   "source": [
    "import pandas as pd\n",
    "import datetime\n",
    "import matplotlib.pyplot as plt\n",
    "import numpy as np\n",
    "from sklearn.ensemble import IsolationForest\n",
    "DEVICES_PATH = \"all_devices.csv\"\n",
    "CHUNK_PATH = \"chunk-\" # + '1','2',...,'23' + '.csv'\n",
    "submission = pd.DataFrame(columns=[\"network_id\", \"device_id\", \"confidence\"])\n",
    "rng = np.random.RandomState(42)"
   ]
  },
  {
   "cell_type": "markdown",
   "metadata": {},
   "source": [
    "### Feature exploration"
   ]
  },
  {
   "cell_type": "code",
   "execution_count": 28,
   "metadata": {},
   "outputs": [],
   "source": [
    "chunk1 = pd.read_csv(CHUNK_PATH + '1' + '.csv',index_col=[0]) #index_col=[0] to use 1st col as index\n",
    "cols = chunk1.columns\n",
    "chunk1 = chunk1.groupby(['network_id','device_id']).aggregate({'host': 'nunique','packets_count': 'sum',\n",
    "                                                           'inbound_bytes_count': 'sum','outbound_bytes_count': 'sum',\n",
    "                                                           'port_dst' : 'nunique',  'service_device_id' : 'nunique',\n",
    "                                                           'packets_count' : 'sum','packet_loss' : 'sum',\n",
    "                                                           'retransmit_count': 'sum', 'latency' : 'sum','session_count' : 'sum'})\n"
   ]
  },
  {
   "cell_type": "code",
   "execution_count": 29,
   "metadata": {},
   "outputs": [
    {
     "data": {
      "text/html": [
       "<div>\n",
       "<style scoped>\n",
       "    .dataframe tbody tr th:only-of-type {\n",
       "        vertical-align: middle;\n",
       "    }\n",
       "\n",
       "    .dataframe tbody tr th {\n",
       "        vertical-align: top;\n",
       "    }\n",
       "\n",
       "    .dataframe thead th {\n",
       "        text-align: right;\n",
       "    }\n",
       "</style>\n",
       "<table border=\"1\" class=\"dataframe\">\n",
       "  <thead>\n",
       "    <tr style=\"text-align: right;\">\n",
       "      <th></th>\n",
       "      <th>host</th>\n",
       "      <th>packets_count</th>\n",
       "      <th>inbound_bytes_count</th>\n",
       "      <th>outbound_bytes_count</th>\n",
       "      <th>port_dst</th>\n",
       "      <th>service_device_id</th>\n",
       "      <th>packet_loss</th>\n",
       "      <th>retransmit_count</th>\n",
       "      <th>latency</th>\n",
       "      <th>session_count</th>\n",
       "      <th>in_out_ratio</th>\n",
       "    </tr>\n",
       "  </thead>\n",
       "  <tbody>\n",
       "    <tr>\n",
       "      <th>host</th>\n",
       "      <td>1.000000</td>\n",
       "      <td>0.085799</td>\n",
       "      <td>0.084590</td>\n",
       "      <td>0.042827</td>\n",
       "      <td>0.410814</td>\n",
       "      <td>0.321097</td>\n",
       "      <td>0.305871</td>\n",
       "      <td>0.115598</td>\n",
       "      <td>0.187792</td>\n",
       "      <td>0.270361</td>\n",
       "      <td>0.354875</td>\n",
       "    </tr>\n",
       "    <tr>\n",
       "      <th>packets_count</th>\n",
       "      <td>0.085799</td>\n",
       "      <td>1.000000</td>\n",
       "      <td>0.918514</td>\n",
       "      <td>0.469075</td>\n",
       "      <td>0.024798</td>\n",
       "      <td>0.031344</td>\n",
       "      <td>0.081043</td>\n",
       "      <td>0.474288</td>\n",
       "      <td>0.029828</td>\n",
       "      <td>0.121676</td>\n",
       "      <td>0.093877</td>\n",
       "    </tr>\n",
       "    <tr>\n",
       "      <th>inbound_bytes_count</th>\n",
       "      <td>0.084590</td>\n",
       "      <td>0.918514</td>\n",
       "      <td>1.000000</td>\n",
       "      <td>0.237986</td>\n",
       "      <td>0.018835</td>\n",
       "      <td>0.012810</td>\n",
       "      <td>0.046772</td>\n",
       "      <td>0.702768</td>\n",
       "      <td>0.032704</td>\n",
       "      <td>0.080699</td>\n",
       "      <td>0.117614</td>\n",
       "    </tr>\n",
       "    <tr>\n",
       "      <th>outbound_bytes_count</th>\n",
       "      <td>0.042827</td>\n",
       "      <td>0.469075</td>\n",
       "      <td>0.237986</td>\n",
       "      <td>1.000000</td>\n",
       "      <td>0.019770</td>\n",
       "      <td>0.009590</td>\n",
       "      <td>0.054275</td>\n",
       "      <td>0.080348</td>\n",
       "      <td>0.012776</td>\n",
       "      <td>0.063321</td>\n",
       "      <td>0.011007</td>\n",
       "    </tr>\n",
       "    <tr>\n",
       "      <th>port_dst</th>\n",
       "      <td>0.410814</td>\n",
       "      <td>0.024798</td>\n",
       "      <td>0.018835</td>\n",
       "      <td>0.019770</td>\n",
       "      <td>1.000000</td>\n",
       "      <td>0.706851</td>\n",
       "      <td>0.189015</td>\n",
       "      <td>0.047705</td>\n",
       "      <td>0.031743</td>\n",
       "      <td>0.283304</td>\n",
       "      <td>0.138483</td>\n",
       "    </tr>\n",
       "    <tr>\n",
       "      <th>service_device_id</th>\n",
       "      <td>0.321097</td>\n",
       "      <td>0.031344</td>\n",
       "      <td>0.012810</td>\n",
       "      <td>0.009590</td>\n",
       "      <td>0.706851</td>\n",
       "      <td>1.000000</td>\n",
       "      <td>0.359859</td>\n",
       "      <td>0.064250</td>\n",
       "      <td>-0.017769</td>\n",
       "      <td>0.554915</td>\n",
       "      <td>0.070571</td>\n",
       "    </tr>\n",
       "    <tr>\n",
       "      <th>packet_loss</th>\n",
       "      <td>0.305871</td>\n",
       "      <td>0.081043</td>\n",
       "      <td>0.046772</td>\n",
       "      <td>0.054275</td>\n",
       "      <td>0.189015</td>\n",
       "      <td>0.359859</td>\n",
       "      <td>1.000000</td>\n",
       "      <td>0.255588</td>\n",
       "      <td>0.066027</td>\n",
       "      <td>0.765788</td>\n",
       "      <td>0.042255</td>\n",
       "    </tr>\n",
       "    <tr>\n",
       "      <th>retransmit_count</th>\n",
       "      <td>0.115598</td>\n",
       "      <td>0.474288</td>\n",
       "      <td>0.702768</td>\n",
       "      <td>0.080348</td>\n",
       "      <td>0.047705</td>\n",
       "      <td>0.064250</td>\n",
       "      <td>0.255588</td>\n",
       "      <td>1.000000</td>\n",
       "      <td>0.031722</td>\n",
       "      <td>0.164189</td>\n",
       "      <td>0.050068</td>\n",
       "    </tr>\n",
       "    <tr>\n",
       "      <th>latency</th>\n",
       "      <td>0.187792</td>\n",
       "      <td>0.029828</td>\n",
       "      <td>0.032704</td>\n",
       "      <td>0.012776</td>\n",
       "      <td>0.031743</td>\n",
       "      <td>-0.017769</td>\n",
       "      <td>0.066027</td>\n",
       "      <td>0.031722</td>\n",
       "      <td>1.000000</td>\n",
       "      <td>0.029543</td>\n",
       "      <td>0.082559</td>\n",
       "    </tr>\n",
       "    <tr>\n",
       "      <th>session_count</th>\n",
       "      <td>0.270361</td>\n",
       "      <td>0.121676</td>\n",
       "      <td>0.080699</td>\n",
       "      <td>0.063321</td>\n",
       "      <td>0.283304</td>\n",
       "      <td>0.554915</td>\n",
       "      <td>0.765788</td>\n",
       "      <td>0.164189</td>\n",
       "      <td>0.029543</td>\n",
       "      <td>1.000000</td>\n",
       "      <td>0.011099</td>\n",
       "    </tr>\n",
       "    <tr>\n",
       "      <th>in_out_ratio</th>\n",
       "      <td>0.354875</td>\n",
       "      <td>0.093877</td>\n",
       "      <td>0.117614</td>\n",
       "      <td>0.011007</td>\n",
       "      <td>0.138483</td>\n",
       "      <td>0.070571</td>\n",
       "      <td>0.042255</td>\n",
       "      <td>0.050068</td>\n",
       "      <td>0.082559</td>\n",
       "      <td>0.011099</td>\n",
       "      <td>1.000000</td>\n",
       "    </tr>\n",
       "  </tbody>\n",
       "</table>\n",
       "</div>"
      ],
      "text/plain": [
       "                          host  packets_count  inbound_bytes_count  \\\n",
       "host                  1.000000       0.085799             0.084590   \n",
       "packets_count         0.085799       1.000000             0.918514   \n",
       "inbound_bytes_count   0.084590       0.918514             1.000000   \n",
       "outbound_bytes_count  0.042827       0.469075             0.237986   \n",
       "port_dst              0.410814       0.024798             0.018835   \n",
       "service_device_id     0.321097       0.031344             0.012810   \n",
       "packet_loss           0.305871       0.081043             0.046772   \n",
       "retransmit_count      0.115598       0.474288             0.702768   \n",
       "latency               0.187792       0.029828             0.032704   \n",
       "session_count         0.270361       0.121676             0.080699   \n",
       "in_out_ratio          0.354875       0.093877             0.117614   \n",
       "\n",
       "                      outbound_bytes_count  port_dst  service_device_id  \\\n",
       "host                              0.042827  0.410814           0.321097   \n",
       "packets_count                     0.469075  0.024798           0.031344   \n",
       "inbound_bytes_count               0.237986  0.018835           0.012810   \n",
       "outbound_bytes_count              1.000000  0.019770           0.009590   \n",
       "port_dst                          0.019770  1.000000           0.706851   \n",
       "service_device_id                 0.009590  0.706851           1.000000   \n",
       "packet_loss                       0.054275  0.189015           0.359859   \n",
       "retransmit_count                  0.080348  0.047705           0.064250   \n",
       "latency                           0.012776  0.031743          -0.017769   \n",
       "session_count                     0.063321  0.283304           0.554915   \n",
       "in_out_ratio                      0.011007  0.138483           0.070571   \n",
       "\n",
       "                      packet_loss  retransmit_count   latency  session_count  \\\n",
       "host                     0.305871          0.115598  0.187792       0.270361   \n",
       "packets_count            0.081043          0.474288  0.029828       0.121676   \n",
       "inbound_bytes_count      0.046772          0.702768  0.032704       0.080699   \n",
       "outbound_bytes_count     0.054275          0.080348  0.012776       0.063321   \n",
       "port_dst                 0.189015          0.047705  0.031743       0.283304   \n",
       "service_device_id        0.359859          0.064250 -0.017769       0.554915   \n",
       "packet_loss              1.000000          0.255588  0.066027       0.765788   \n",
       "retransmit_count         0.255588          1.000000  0.031722       0.164189   \n",
       "latency                  0.066027          0.031722  1.000000       0.029543   \n",
       "session_count            0.765788          0.164189  0.029543       1.000000   \n",
       "in_out_ratio             0.042255          0.050068  0.082559       0.011099   \n",
       "\n",
       "                      in_out_ratio  \n",
       "host                      0.354875  \n",
       "packets_count             0.093877  \n",
       "inbound_bytes_count       0.117614  \n",
       "outbound_bytes_count      0.011007  \n",
       "port_dst                  0.138483  \n",
       "service_device_id         0.070571  \n",
       "packet_loss               0.042255  \n",
       "retransmit_count          0.050068  \n",
       "latency                   0.082559  \n",
       "session_count             0.011099  \n",
       "in_out_ratio              1.000000  "
      ]
     },
     "execution_count": 29,
     "metadata": {},
     "output_type": "execute_result"
    }
   ],
   "source": [
    "chunk1['in_out_ratio'] = chunk1.inbound_bytes_count / chunk1.packets_count\n",
    "chunk1.corr()"
   ]
  },
  {
   "cell_type": "code",
   "execution_count": 30,
   "metadata": {},
   "outputs": [
    {
     "data": {
      "text/plain": [
       "<matplotlib.axes._subplots.AxesSubplot at 0x20c8ffb8668>"
      ]
     },
     "execution_count": 30,
     "metadata": {},
     "output_type": "execute_result"
    },
    {
     "data": {
      "image/png": "[encoded data removed]",
      "text/plain": [
       "<Figure size 432x288 with 2 Axes>"
      ]
     },
     "metadata": {
      "needs_background": "light"
     },
     "output_type": "display_data"
    }
   ],
   "source": [
    "import seaborn as sns\n",
    "corr = chunk1.corr()\n",
    "sns.heatmap(corr,xticklabels=corr.columns.values,\n",
    "            yticklabels=corr.columns.values)"
   ]
  },
  {
   "cell_type": "code",
   "execution_count": 31,
   "metadata": {},
   "outputs": [
    {
     "data": {
      "image/png": "[encoded data removed]",
      "text/plain": [
       "<Figure size 432x288 with 2 Axes>"
      ]
     },
     "metadata": {
      "needs_background": "light"
     },
     "output_type": "display_data"
    }
   ],
   "source": [
    "chunk1.drop(['inbound_bytes_count', 'outbound_bytes_count'], axis=1, inplace=True) #drop linear correlated features\n",
    "\n",
    "corr = chunk1.corr()\n",
    "sns.heatmap(corr,xticklabels=corr.columns.values,\n",
    "            yticklabels=corr.columns.values)\n",
    "chunk1.reset_index(level=[0,1], inplace=True)"
   ]
  },
  {
   "cell_type": "code",
   "execution_count": 32,
   "metadata": {},
   "outputs": [],
   "source": [
    "# We use the simple min-max normalization in order to normalize the confidence values to 0-1 range.\n",
    "# Higher score means that this device is probably more anomalous.\n",
    "def calc_normalized_decision(decision_function_result):\n",
    "    decision_function_result = -1 * decision_function_result\n",
    "    minimum = decision_function_result.min()\n",
    "    maximum = decision_function_result.max()\n",
    "    return (decision_function_result - minimum) / (maximum - minimum)"
   ]
  },
  {
   "cell_type": "markdown",
   "metadata": {},
   "source": [
    "## extract features\n",
    "- replacing 'inbound_bytes_count', 'outbound_bytes_count' which are highly correlated with 'packet_counts' with 'in_out_ratio'\n",
    "- this feature can tell if device is sending the requests only for attack proposes."
   ]
  },
  {
   "cell_type": "code",
   "execution_count": 33,
   "metadata": {},
   "outputs": [],
   "source": [
    "def extract_features(df_in):\n",
    "    df = df_in.copy()\n",
    "    df = df.groupby(['network_id','device_id']).aggregate({'host': 'nunique','packets_count': 'sum',\n",
    "                                                           'inbound_bytes_count': 'sum','outbound_bytes_count': 'sum',\n",
    "                                                           'port_dst' : 'nunique',  'service_device_id' : 'nunique',\n",
    "                                                           'packets_count' : 'sum','packet_loss' : 'sum',\n",
    "                                                           'retransmit_count': 'sum', 'latency' : 'sum','session_count' : 'sum'})\n",
    "    df['in_out_ratio'] = df.inbound_bytes_count / df.outbound_bytes_count\n",
    "    df.drop(['inbound_bytes_count', 'outbound_bytes_count'], axis=1, inplace=True) #drop linear correlated features\n",
    "    return df\n",
    "\n",
    "def detect_anomaly(df,esitmator):\n",
    "    df_out = df.copy()\n",
    "    esitmator.fit(df_out.values)\n",
    "    decision_function_result = esitmator.decision_function(df_out.values)\n",
    "    df_out[\"confidence\"] = calc_normalized_decision(decision_function_result)\n",
    "    return df_out\n"
   ]
  },
  {
   "cell_type": "code",
   "execution_count": 34,
   "metadata": {},
   "outputs": [
    {
     "name": "stdout",
     "output_type": "stream",
     "text": [
      "at chunk-1 19,752\n",
      "at chunk-2 21,856\n",
      "at chunk-3 24,129\n",
      "at chunk-4 25,840\n",
      "at chunk-5 26,964\n",
      "at chunk-6 27,530\n",
      "at chunk-7 29,619\n",
      "at chunk-8 30,245\n",
      "at chunk-9 31,678\n",
      "at chunk-10 32,262\n",
      "at chunk-11 41,256\n",
      "at chunk-12 46,465\n",
      "at chunk-13 49,978\n",
      "at chunk-14 52,949\n",
      "at chunk-15 57,720\n",
      "at chunk-16 59,071\n",
      "at chunk-17 59,676\n",
      "at chunk-18 59,831\n",
      "at chunk-19 60,573\n",
      "at chunk-20 68,777\n",
      "at chunk-21 71,064\n",
      "at chunk-22 75,451\n"
     ]
    }
   ],
   "source": [
    "#iterating over chunks:\n",
    "iso = IsolationForest(behaviour='new',random_state=rng,max_samples=0.25,contamination=0.15,n_estimators=250,n_jobs=-1)\n",
    "cols= pd.read_csv('chunk-1.csv',chunksize = 2,index_col=[0]).get_chunk(2).columns\n",
    "\n",
    "for i in range (1,23):\n",
    "    chunk_path = CHUNK_PATH + str(i) + '.csv'\n",
    "    if i == 1:\n",
    "       mini_chunk_iso = pd.read_csv(chunk_path,index_col=[0])\n",
    "    else:\n",
    "        mini_chunk_iso = pd.read_csv(chunk_path,index_col=[0],names=cols,header=None) #index_col=[0] to use 1st col as index, names= we have the header only in the 1st file\n",
    "        #print(\"chunk-\"+ str(i) + str(mini_chunk.network_id.iloc[0])) which net_id related to chunk\n",
    "        #print(len(mini_chunk.device_id.unique().tolist())) how many unique devices in each mini_chunk\n",
    "        \n",
    "    mini_chunk_iso = extract_features(mini_chunk_iso)\n",
    "    mini_chunk_iso = detect_anomaly(mini_chunk_iso,iso)\n",
    "    mini_chunk_iso.drop(['in_out_ratio','host','packets_count','port_dst','service_device_id','packets_count',\n",
    "                     'packet_loss','retransmit_count', 'latency','session_count'],axis='columns',inplace=True)\n",
    "    mini_chunk_iso = mini_chunk_iso.groupby(['network_id','device_id']).aggregate({\"confidence\": \"mean\"})\n",
    "    mini_chunk_iso.reset_index(level=[0,1], inplace=True)\n",
    "    submission = submission.append(mini_chunk_iso)\n",
    "    submission = submission.groupby(['network_id','device_id']).aggregate({\"confidence\": \"mean\"})\n",
    "    submission.reset_index(level=[0,1], inplace=True)\n",
    "    total = len(submission.index)\n",
    "    print(\"at chunk-\" + str(i)+ f' {total:,}')\n",
    "        "
   ]
  },
  {
   "cell_type": "code",
   "execution_count": 35,
   "metadata": {},
   "outputs": [
    {
     "name": "stdout",
     "output_type": "stream",
     "text": [
      "[     33      35      40 ... 2740803 2741153 2742647]\n",
      "<class 'pandas.core.frame.DataFrame'>\n",
      "RangeIndex: 75451 entries, 0 to 75450\n",
      "Data columns (total 3 columns):\n",
      "network_id    75451 non-null int64\n",
      "device_id     75451 non-null int64\n",
      "confidence    75451 non-null float64\n",
      "dtypes: float64(1), int64(2)\n",
      "memory usage: 1.7 MB\n",
      "None\n",
      "         network_id     device_id    confidence\n",
      "count  75451.000000  7.545100e+04  75451.000000\n",
      "mean       1.064771  3.872705e+05      0.034277\n",
      "std        1.145056  5.478891e+05      0.062122\n",
      "min        0.000000  1.300000e+01      0.000000\n",
      "25%        0.000000  4.196150e+04      0.005182\n",
      "50%        1.000000  1.610980e+05      0.013954\n",
      "75%        2.000000  5.020340e+05      0.037990\n",
      "max        3.000000  2.742647e+06      0.995970\n",
      "   network_id  device_id  confidence\n",
      "0           0         33    0.005248\n",
      "1           0         35    0.744716\n",
      "2           0         40    0.078492\n",
      "3           0         41    0.005060\n",
      "4           0         53    0.005143\n"
     ]
    }
   ],
   "source": [
    "\n",
    "\n",
    "print(submission.device_id.unique())\n",
    "print(submission.info())\n",
    "print(submission.describe())\n",
    "print(submission.head())"
   ]
  },
  {
   "cell_type": "markdown",
   "metadata": {},
   "source": [
    "# Submissions"
   ]
  },
  {
   "cell_type": "code",
   "execution_count": 36,
   "metadata": {},
   "outputs": [
    {
     "name": "stdout",
     "output_type": "stream",
     "text": [
      "{'member': 'Data Sniffers', 'rank': 8, 'score': 0.8486555135349111}\n"
     ]
    }
   ],
   "source": [
    "arr_to_submit = submission.to_json(orient='values')\n",
    "\n",
    "from urllib import request\n",
    "import json\n",
    "\n",
    "leaderboard_name = \"armis\"\n",
    "host = \"leaderboard.datahack.org.il\"\n",
    "\n",
    "# Name of the user\n",
    "submitter = \"Data Sniffers\"\n",
    "\n",
    "predictions = json.loads(arr_to_submit)\n",
    "\n",
    "jsonStr = json.dumps({'submitter': submitter, 'predictions': predictions})\n",
    "data = jsonStr.encode('utf-8')\n",
    "req = request.Request(f\"https://{host}/{leaderboard_name}/api/\",\n",
    "                      headers={'Content-Type': 'application/json'},\n",
    "                      data=data)\n",
    "resp = request.urlopen(req)\n",
    "print(json.load(resp))"
   ]
  }
 ],
 "metadata": {
  "kernelspec": {
   "display_name": "Python 3",
   "language": "python",
   "name": "python3"
  },
  "language_info": {
   "codemirror_mode": {
    "name": "ipython",
    "version": 3
   },
   "file_extension": ".py",
   "mimetype": "text/x-python",
   "name": "python",
   "nbconvert_exporter": "python",
   "pygments_lexer": "ipython3",
   "version": "3.7.3"
  }
 },
 "nbformat": 4,
 "nbformat_minor": 2
}
